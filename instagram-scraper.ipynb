{
 "cells": [
  {
   "cell_type": "markdown",
   "id": "ee754479",
   "metadata": {},
   "source": [
    "<h2>Library Preparation</h2>"
   ]
  },
  {
   "cell_type": "code",
   "execution_count": 1,
   "id": "b408befe",
   "metadata": {},
   "outputs": [],
   "source": [
    "import time\n",
    "import os\n",
    "import sys\n",
    "\n",
    "import pandas as pd\n",
    "\n",
    "from dotenv import load_dotenv\n",
    "\n",
    "from selenium import webdriver\n",
    "from selenium.webdriver.chrome.service import Service\n",
    "from selenium.webdriver.chrome.options import Options\n",
    "from selenium.webdriver.common.by import By\n",
    "from selenium.webdriver.support.ui import WebDriverWait\n",
    "from selenium.webdriver.support import expected_conditions as EC\n",
    "from selenium.common.exceptions import TimeoutException\n",
    "\n",
    "from webdriver_manager.chrome import ChromeDriverManager\n",
    "\n",
    "from bs4 import BeautifulSoup\n",
    "\n",
    "from lxml import etree"
   ]
  },
  {
   "cell_type": "code",
   "execution_count": 2,
   "id": "01d6f743",
   "metadata": {},
   "outputs": [],
   "source": [
    "load_dotenv()\n",
    "\n",
    "WAIT_DELAY = 10 #seconds"
   ]
  },
  {
   "cell_type": "markdown",
   "id": "816c798f",
   "metadata": {},
   "source": [
    "<h2>Open Browser and Instagram Url</h2>"
   ]
  },
  {
   "cell_type": "code",
   "execution_count": 3,
   "id": "98a951e6",
   "metadata": {},
   "outputs": [],
   "source": [
    "def generateSeleniumOptions():\n",
    "    options = Options()\n",
    "    options.headless = True\n",
    "    options.add_argument('--no-sandbox') # Bypass OS security model\n",
    "    options.add_argument('start-maximized')\n",
    "    options.add_argument('disable-infobars')\n",
    "    options.add_argument(\"--disable-extensions\")\n",
    "    options.add_argument('user-agent={0}'.format('Mozilla/5.0 (Windows NT 10.0; Win64; x64; rv:100.0) Gecko/20100101 Firefox/100.0'))\n",
    "    options.add_argument('--log-level=3')\n",
    "    options.add_experimental_option('excludeSwitches', ['enable-logging'])\n",
    "    return options"
   ]
  },
  {
   "cell_type": "code",
   "execution_count": 4,
   "id": "06d76173",
   "metadata": {},
   "outputs": [
    {
     "name": "stdout",
     "output_type": "stream",
     "text": [
      "\n"
     ]
    },
    {
     "name": "stderr",
     "output_type": "stream",
     "text": [
      "[WDM] - ====== WebDriver manager ======\n",
      "[WDM] - Current google-chrome version is 102.0.5005\n",
      "[WDM] - Get LATEST chromedriver version for 102.0.5005 google-chrome\n",
      "[WDM] - Driver [C:\\Users\\hapel\\.wdm\\drivers\\chromedriver\\win32\\102.0.5005.61\\chromedriver.exe] found in cache\n"
     ]
    }
   ],
   "source": [
    "# driver = webdriver.Chrome(service=Service(ChromeDriverManager().install()), options=generateSeleniumOptions())\n",
    "driver = webdriver.Chrome(service=Service(ChromeDriverManager().install()))"
   ]
  },
  {
   "cell_type": "code",
   "execution_count": 5,
   "id": "a611f25e",
   "metadata": {},
   "outputs": [],
   "source": [
    "URL=\"https://www.instagram.com/\"\n",
    "driver.get(URL)"
   ]
  },
  {
   "cell_type": "markdown",
   "id": "99a92391",
   "metadata": {},
   "source": [
    "<h2>Login to Instagram</h2>"
   ]
  },
  {
   "cell_type": "code",
   "execution_count": 6,
   "id": "fec71ea6",
   "metadata": {},
   "outputs": [],
   "source": [
    "username_xpath = \"//*[@id='loginForm']/div/div[1]/div/label/input\"\n",
    "password_xpath = \"//*[@id='loginForm']/div/div[2]/div/label/input\"\n",
    "\n",
    "login_button_xpath = \"//*[@id='loginForm']/div/div[3]/button\"\n",
    "\n",
    "instagram_username = os.getenv('INSTAGRAM_USERNAME')\n",
    "instagram_password = os.getenv('INSTAGRAM_PASSWORD')\n",
    "\n",
    "try:\n",
    "    WebDriverWait(driver, WAIT_DELAY).until(EC.presence_of_element_located((By.XPATH , username_xpath)))\n",
    "except TimeoutException:\n",
    "    print(\"timeout opening instagram web\")\n",
    "    raise\n",
    "\n",
    "driver.find_element(By.XPATH , username_xpath).send_keys(instagram_username)\n",
    "driver.find_element(By.XPATH , password_xpath).send_keys(instagram_password)\n",
    "driver.find_element(By.XPATH , login_button_xpath).click()"
   ]
  },
  {
   "cell_type": "markdown",
   "id": "c0f218ca",
   "metadata": {},
   "source": [
    "<h2>Scrape instagram posts</h2>"
   ]
  },
  {
   "cell_type": "code",
   "execution_count": 7,
   "id": "e163423e",
   "metadata": {},
   "outputs": [
    {
     "name": "stdout",
     "output_type": "stream",
     "text": [
      "timeout logging in to instagram\n"
     ]
    },
    {
     "ename": "TimeoutException",
     "evalue": "Message: \nStacktrace:\nBacktrace:\n\tOrdinal0 [0x011CD953+2414931]\n\tOrdinal0 [0x0115F5E1+1963489]\n\tOrdinal0 [0x0104C6B8+837304]\n\tOrdinal0 [0x01079500+1021184]\n\tOrdinal0 [0x0107979B+1021851]\n\tOrdinal0 [0x010A6502+1205506]\n\tOrdinal0 [0x010944E4+1131748]\n\tOrdinal0 [0x010A4812+1198098]\n\tOrdinal0 [0x010942B6+1131190]\n\tOrdinal0 [0x0106E860+976992]\n\tOrdinal0 [0x0106F756+980822]\n\tGetHandleVerifier [0x0143CC62+2510274]\n\tGetHandleVerifier [0x0142F760+2455744]\n\tGetHandleVerifier [0x0125EABA+551962]\n\tGetHandleVerifier [0x0125D916+547446]\n\tOrdinal0 [0x01165F3B+1990459]\n\tOrdinal0 [0x0116A898+2009240]\n\tOrdinal0 [0x0116A985+2009477]\n\tOrdinal0 [0x01173AD1+2046673]\n\tBaseThreadInitThunk [0x75806739+25]\n\tRtlGetFullPathName_UEx [0x771D8FEF+1215]\n\tRtlGetFullPathName_UEx [0x771D8FBD+1165]\n",
     "output_type": "error",
     "traceback": [
      "\u001b[1;31m---------------------------------------------------------------------------\u001b[0m",
      "\u001b[1;31mTimeoutException\u001b[0m                          Traceback (most recent call last)",
      "Input \u001b[1;32mIn [7]\u001b[0m, in \u001b[0;36m<cell line: 3>\u001b[1;34m()\u001b[0m\n\u001b[0;32m      1\u001b[0m not_now_xpath \u001b[38;5;241m=\u001b[39m \u001b[38;5;124m'\u001b[39m\u001b[38;5;124m//*[@id=\u001b[39m\u001b[38;5;124m\"\u001b[39m\u001b[38;5;124mreact-root\u001b[39m\u001b[38;5;124m\"\u001b[39m\u001b[38;5;124m]/section/main/div/div/div/div/button\u001b[39m\u001b[38;5;124m'\u001b[39m\n\u001b[0;32m      3\u001b[0m \u001b[38;5;28;01mtry\u001b[39;00m:\n\u001b[1;32m----> 4\u001b[0m     \u001b[43mWebDriverWait\u001b[49m\u001b[43m(\u001b[49m\u001b[43mdriver\u001b[49m\u001b[43m,\u001b[49m\u001b[43m \u001b[49m\u001b[43mWAIT_DELAY\u001b[49m\u001b[43m)\u001b[49m\u001b[38;5;241;43m.\u001b[39;49m\u001b[43muntil\u001b[49m\u001b[43m(\u001b[49m\u001b[43mEC\u001b[49m\u001b[38;5;241;43m.\u001b[39;49m\u001b[43mpresence_of_element_located\u001b[49m\u001b[43m(\u001b[49m\u001b[43m(\u001b[49m\u001b[43mBy\u001b[49m\u001b[38;5;241;43m.\u001b[39;49m\u001b[43mXPATH\u001b[49m\u001b[43m,\u001b[49m\u001b[43m \u001b[49m\u001b[43mnot_now_xpath\u001b[49m\u001b[43m)\u001b[49m\u001b[43m)\u001b[49m\u001b[43m)\u001b[49m\n\u001b[0;32m      5\u001b[0m \u001b[38;5;28;01mexcept\u001b[39;00m TimeoutException:\n\u001b[0;32m      6\u001b[0m     \u001b[38;5;28mprint\u001b[39m(\u001b[38;5;124m\"\u001b[39m\u001b[38;5;124mtimeout logging in to instagram\u001b[39m\u001b[38;5;124m\"\u001b[39m)\n",
      "File \u001b[1;32mD:\\Apps\\anaconda3\\envs\\webscraper\\lib\\site-packages\\selenium\\webdriver\\support\\wait.py:87\u001b[0m, in \u001b[0;36mWebDriverWait.until\u001b[1;34m(self, method, message)\u001b[0m\n\u001b[0;32m     85\u001b[0m     \u001b[38;5;28;01mif\u001b[39;00m time\u001b[38;5;241m.\u001b[39mmonotonic() \u001b[38;5;241m>\u001b[39m end_time:\n\u001b[0;32m     86\u001b[0m         \u001b[38;5;28;01mbreak\u001b[39;00m\n\u001b[1;32m---> 87\u001b[0m \u001b[38;5;28;01mraise\u001b[39;00m TimeoutException(message, screen, stacktrace)\n",
      "\u001b[1;31mTimeoutException\u001b[0m: Message: \nStacktrace:\nBacktrace:\n\tOrdinal0 [0x011CD953+2414931]\n\tOrdinal0 [0x0115F5E1+1963489]\n\tOrdinal0 [0x0104C6B8+837304]\n\tOrdinal0 [0x01079500+1021184]\n\tOrdinal0 [0x0107979B+1021851]\n\tOrdinal0 [0x010A6502+1205506]\n\tOrdinal0 [0x010944E4+1131748]\n\tOrdinal0 [0x010A4812+1198098]\n\tOrdinal0 [0x010942B6+1131190]\n\tOrdinal0 [0x0106E860+976992]\n\tOrdinal0 [0x0106F756+980822]\n\tGetHandleVerifier [0x0143CC62+2510274]\n\tGetHandleVerifier [0x0142F760+2455744]\n\tGetHandleVerifier [0x0125EABA+551962]\n\tGetHandleVerifier [0x0125D916+547446]\n\tOrdinal0 [0x01165F3B+1990459]\n\tOrdinal0 [0x0116A898+2009240]\n\tOrdinal0 [0x0116A985+2009477]\n\tOrdinal0 [0x01173AD1+2046673]\n\tBaseThreadInitThunk [0x75806739+25]\n\tRtlGetFullPathName_UEx [0x771D8FEF+1215]\n\tRtlGetFullPathName_UEx [0x771D8FBD+1165]\n"
     ]
    }
   ],
   "source": [
    "not_now_xpath = '//*[@id=\"react-root\"]/section/main/div/div/div/div/button'\n",
    "\n",
    "try:\n",
    "    WebDriverWait(driver, WAIT_DELAY).until(EC.presence_of_element_located((By.XPATH, not_now_xpath)))\n",
    "except TimeoutException:\n",
    "    print(\"timeout logging in to instagram\")\n",
    "    raise\n",
    "\n",
    "driver.find_element(By.XPATH, not_now_xpath).click()"
   ]
  },
  {
   "cell_type": "code",
   "execution_count": null,
   "id": "e1870c1a",
   "metadata": {},
   "outputs": [],
   "source": [
    "close_notification_xpath = '/html/body/div[5]/div/div/div/div[3]/button[2]'\n",
    "\n",
    "try:\n",
    "    WebDriverWait(driver, WAIT_DELAY).until(EC.presence_of_element_located((By.XPATH, close_notification_xpath)))\n",
    "except TimeoutException:\n",
    "    print(\"timeout logging in to instagram\")\n",
    "    raise\n",
    "\n",
    "driver.find_element(By.XPATH, close_notification_xpath).click()"
   ]
  },
  {
   "cell_type": "code",
   "execution_count": null,
   "id": "b6b7d034",
   "metadata": {},
   "outputs": [],
   "source": [
    "def scroll_down():\n",
    "    driver.execute_script(\"window.scrollTo(0, document.body.scrollHeight);\")"
   ]
  },
  {
   "cell_type": "code",
   "execution_count": null,
   "id": "3c2b6e59",
   "metadata": {},
   "outputs": [],
   "source": [
    "bs = BeautifulSoup(driver.page_source)\n",
    "articles = bs.find_all(\"article\", attrs={\"role\":\"presentation\"})\n",
    "while True:\n",
    "    articles.extend(bs.find_all(\"article\", attrs={\"role\":\"presentation\"}))\n",
    "    if len(articles) < 5:\n",
    "        scroll_down()\n",
    "    else:\n",
    "        break"
   ]
  },
  {
   "cell_type": "markdown",
   "id": "7f7c6113",
   "metadata": {},
   "source": [
    "<h2>Proccess Data</h2>"
   ]
  },
  {
   "cell_type": "code",
   "execution_count": null,
   "id": "9fff2731",
   "metadata": {},
   "outputs": [],
   "source": [
    "print(articles[0].prettify())"
   ]
  },
  {
   "cell_type": "code",
   "execution_count": null,
   "id": "bc046cc8",
   "metadata": {},
   "outputs": [],
   "source": [
    "username_class = \"sqdOP yWX7d _8A5w5 ZIAjV\"\n",
    "image_class = \"FFVAD\"\n",
    "like_class = \"_7UhW9 xLCgt qyrsm KV-D4 fDxYl T0kll\""
   ]
  },
  {
   "cell_type": "code",
   "execution_count": null,
   "id": "a73729a3",
   "metadata": {},
   "outputs": [],
   "source": [
    "posts = []\n",
    "for article in articles:\n",
    "    username = article.find(\"a\", class_=username_class)\n",
    "    image = article.find(\"img\", class_=image_class)\n",
    "    like_div = article.find_all(\"div\", class_=like_class)\n",
    "    print(like_div)\n",
    "    post = {\n",
    "        \"username\": username.text.strip(),\n",
    "        \"image\": image['src'],\n",
    "        \"likes\": likes\n",
    "    }\n",
    "    posts.append(post)"
   ]
  },
  {
   "cell_type": "code",
   "execution_count": null,
   "id": "b73cc907",
   "metadata": {},
   "outputs": [],
   "source": [
    "post_df = pd.DataFrame(posts)\n",
    "post_df"
   ]
  },
  {
   "cell_type": "markdown",
   "id": "0e562b2f",
   "metadata": {},
   "source": [
    "<h2>Close browser</h2>"
   ]
  },
  {
   "cell_type": "code",
   "execution_count": null,
   "id": "450ed111",
   "metadata": {},
   "outputs": [],
   "source": [
    "# driver.close()"
   ]
  },
  {
   "cell_type": "code",
   "execution_count": null,
   "id": "4e73672b",
   "metadata": {},
   "outputs": [],
   "source": []
  }
 ],
 "metadata": {
  "kernelspec": {
   "display_name": "Python 3 (ipykernel)",
   "language": "python",
   "name": "python3"
  },
  "language_info": {
   "codemirror_mode": {
    "name": "ipython",
    "version": 3
   },
   "file_extension": ".py",
   "mimetype": "text/x-python",
   "name": "python",
   "nbconvert_exporter": "python",
   "pygments_lexer": "ipython3",
   "version": "3.9.12"
  }
 },
 "nbformat": 4,
 "nbformat_minor": 5
}
