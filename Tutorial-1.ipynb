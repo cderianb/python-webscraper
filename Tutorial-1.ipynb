{
 "cells": [
  {
   "cell_type": "code",
   "execution_count": null,
   "id": "a5737fc9",
   "metadata": {},
   "outputs": [],
   "source": [
    "from selenium import webdriver\n",
    "from selenium.webdriver.chrome.service import Service\n",
    "from webdriver_manager.chrome import ChromeDriverManager\n",
    "from bs4 import BeautifulSoup"
   ]
  },
  {
   "cell_type": "markdown",
   "id": "e531a254",
   "metadata": {},
   "source": [
    "<h2>Open browser and website using selenium</h2>"
   ]
  },
  {
   "cell_type": "code",
   "execution_count": null,
   "id": "22fad3b9",
   "metadata": {},
   "outputs": [],
   "source": [
    "DRIVER_PATH = \"C:\\Program Files\\BraveSoftware\\Brave-Browser\\Application\\brave.exe\"\n",
    "driver = webdriver.Chrome(service=Service(ChromeDriverManager().install()))"
   ]
  },
  {
   "cell_type": "code",
   "execution_count": null,
   "id": "8235dd2c",
   "metadata": {},
   "outputs": [],
   "source": [
    "url = 'https://realpython.github.io/fake-jobs/'\n",
    "driver.get(url)"
   ]
  },
  {
   "cell_type": "markdown",
   "id": "f54e3d07",
   "metadata": {},
   "source": [
    "<h2>Process the page elemet using BeautifulSoup</h2>"
   ]
  },
  {
   "cell_type": "code",
   "execution_count": null,
   "id": "758cd0fa",
   "metadata": {},
   "outputs": [],
   "source": [
    "page_source = driver.page_source\n",
    "soup = BeautifulSoup(page_source, \"html.parser\")"
   ]
  },
  {
   "cell_type": "code",
   "execution_count": null,
   "id": "d2486ee4",
   "metadata": {},
   "outputs": [],
   "source": [
    "results = soup.find(id=\"ResultsContainer\")\n",
    "print(results.prettify())"
   ]
  },
  {
   "cell_type": "code",
   "execution_count": null,
   "id": "783a5485",
   "metadata": {},
   "outputs": [],
   "source": [
    "job_elements = results.find_all(\"div\", class_=\"card-content\")\n",
    "\n",
    "print(job_elements[0].prettify())"
   ]
  },
  {
   "cell_type": "code",
   "execution_count": null,
   "id": "ec0591af",
   "metadata": {},
   "outputs": [],
   "source": [
    "for job in job_elements:\n",
    "    title_element = job.find(\"h2\", class_=\"title\")\n",
    "    company_element = job.find(\"h3\", class_=\"company\")\n",
    "    location_element = job.find(\"p\", class_=\"location\")\n",
    "    print(title_element.text.strip())\n",
    "    print(company_element.text.strip())\n",
    "    print(location_element.text.strip())\n",
    "    \n",
    "    apply_url = job.find_all(\"a\")[1][\"href\"] #since there are 2 links, use find_all\n",
    "    print(apply_url)\n",
    "    print()"
   ]
  },
  {
   "cell_type": "markdown",
   "id": "00da7c88",
   "metadata": {},
   "source": [
    "<h2>Find by strings</h2>"
   ]
  },
  {
   "cell_type": "code",
   "execution_count": null,
   "id": "c3bfbf25",
   "metadata": {},
   "outputs": [],
   "source": [
    "python_jobs = results.find_all(\"h2\", string=lambda text: \"python\" in text.lower())\n",
    "for job in python_jobs:\n",
    "    print(job.text)"
   ]
  },
  {
   "cell_type": "markdown",
   "id": "410af8d2",
   "metadata": {},
   "source": [
    "<h2>Close selenium web browser</h2>"
   ]
  },
  {
   "cell_type": "code",
   "execution_count": null,
   "id": "f878992d",
   "metadata": {},
   "outputs": [],
   "source": [
    "driver.quit()"
   ]
  },
  {
   "cell_type": "code",
   "execution_count": null,
   "id": "d032fb66",
   "metadata": {},
   "outputs": [],
   "source": []
  }
 ],
 "metadata": {
  "kernelspec": {
   "display_name": "Python 3 (ipykernel)",
   "language": "python",
   "name": "python3"
  },
  "language_info": {
   "codemirror_mode": {
    "name": "ipython",
    "version": 3
   },
   "file_extension": ".py",
   "mimetype": "text/x-python",
   "name": "python",
   "nbconvert_exporter": "python",
   "pygments_lexer": "ipython3",
   "version": "3.9.12"
  }
 },
 "nbformat": 4,
 "nbformat_minor": 5
}
