{
 "cells": [
  {
   "cell_type": "code",
   "execution_count": 1,
   "id": "62659725",
   "metadata": {},
   "outputs": [],
   "source": [
    "import pandas as pd\n",
    "\n",
    "from selenium import webdriver\n",
    "from selenium.webdriver.chrome.service import Service\n",
    "from webdriver_manager.chrome import ChromeDriverManager\n",
    "from bs4 import BeautifulSoup"
   ]
  },
  {
   "cell_type": "markdown",
   "id": "b7567ff8",
   "metadata": {},
   "source": [
    "<h2>Open browser</h2>"
   ]
  },
  {
   "cell_type": "code",
   "execution_count": 2,
   "id": "a157a339",
   "metadata": {},
   "outputs": [
    {
     "name": "stdout",
     "output_type": "stream",
     "text": [
      "\n"
     ]
    },
    {
     "name": "stderr",
     "output_type": "stream",
     "text": [
      "[WDM] - ====== WebDriver manager ======\n",
      "[WDM] - Current google-chrome version is 102.0.5005\n",
      "[WDM] - Get LATEST chromedriver version for 102.0.5005 google-chrome\n",
      "[WDM] - Driver [C:\\Users\\hapel\\.wdm\\drivers\\chromedriver\\win32\\102.0.5005.61\\chromedriver.exe] found in cache\n"
     ]
    }
   ],
   "source": [
    "DRIVER_PATH = \"C:\\Program Files\\BraveSoftware\\Brave-Browser\\Application\\brave.exe\"\n",
    "driver = webdriver.Chrome(service=Service(ChromeDriverManager().install()))"
   ]
  },
  {
   "cell_type": "markdown",
   "id": "72c83f73",
   "metadata": {},
   "source": [
    "<h2>Open and scrape website</h2>"
   ]
  },
  {
   "cell_type": "code",
   "execution_count": 3,
   "id": "a07dd6a7",
   "metadata": {},
   "outputs": [],
   "source": [
    "def getPageElement(page:int):\n",
    "    URL=\"https://www.bookdepository.com/bestsellers\"\n",
    "    driver.get(f\"{URL}?page={page}\")\n",
    "    page_source = driver.page_source\n",
    "    soup = BeautifulSoup(page_source, \"html.parser\")\n",
    "\n",
    "    return soup.find(class_=\"content-block\")"
   ]
  },
  {
   "cell_type": "code",
   "execution_count": 10,
   "id": "0675a05a",
   "metadata": {},
   "outputs": [
    {
     "name": "stdout",
     "output_type": "stream",
     "text": [
      "page = 2\n",
      "page = 3\n",
      "page = 4\n",
      "page = 5\n",
      "page = 6\n",
      "page = 7\n",
      "page = 8\n",
      "page = 9\n",
      "page = 10\n",
      "page = 11\n",
      "page = 12\n",
      "page = 13\n",
      "page = 14\n",
      "page = 15\n",
      "page = 16\n",
      "page = 17\n",
      "page = 18\n",
      "page = 19\n",
      "page = 20\n",
      "page = 21\n",
      "page = 22\n",
      "page = 23\n",
      "page = 24\n",
      "page = 25\n",
      "page = 26\n",
      "page = 27\n",
      "page = 28\n",
      "page = 29\n",
      "page = 30\n",
      "page = 31\n",
      "page = 32\n",
      "page = 33\n",
      "page = 34\n"
     ]
    }
   ],
   "source": [
    "results = getPageElement(1)\n",
    "book_elements = results.find_all(\"div\", class_=\"book-item\")\n",
    "\n",
    "for page in range(2, 35):    \n",
    "    results = getPageElement(page)\n",
    "    book_elements.extend(results.find_all(\"div\", class_=\"book-item\"))\n",
    "    print(f\"scraping page = {page}\")"
   ]
  },
  {
   "cell_type": "markdown",
   "id": "5411bfdc",
   "metadata": {},
   "source": [
    "<h2>Transform web element to python data</h2>"
   ]
  },
  {
   "cell_type": "code",
   "execution_count": 64,
   "id": "f35b74ba",
   "metadata": {},
   "outputs": [],
   "source": [
    "def clean_price_data(price:str):\n",
    "    price = price.replace(\"Rp\",\"\")\n",
    "    price = price.replace(\"\\n\",\"\")\n",
    "    price = price.replace(\".\", \"\")\n",
    "#     price = price.replace(\"\\&nbsp\", \"\")\n",
    "    price = price.replace(\" \",\"\")\n",
    "    \n",
    "    return price    "
   ]
  },
  {
   "cell_type": "code",
   "execution_count": 70,
   "id": "124d4bf5",
   "metadata": {},
   "outputs": [],
   "source": [
    "book_list = []\n",
    "for book_element in book_elements:\n",
    "    title_element = book_element.find(\"h3\", class_=\"title\")\n",
    "    author_element = book_element.find(\"p\", class_=\"author\")\n",
    "    #get rating\n",
    "    published_date_element = book_element.find(\"p\", class_=\"published\")\n",
    "    book_format_element = book_element.find(\"p\", class_=\"format\")\n",
    "    price_element = book_element.find(\"span\", class_=\"sale-price\")\n",
    "    \n",
    "    title = title_element.text.strip() if title_element != None else \"\"\n",
    "    author = author_element.text.strip() if author_element != None else \"\"\n",
    "    published_date = published_date_element.text.strip() if published_date_element != None else \"\"\n",
    "    book_format = book_format_element.text.strip() if book_format_element != None else \"\"\n",
    "    price = clean_price_data(price_element.text.strip() if price_element != None else \"\")\n",
    "    \n",
    "#     print(f\"{title_element} , {price_element}\")\n",
    "    book = {\n",
    "        \"title\": title,\n",
    "        \"author\": author,\n",
    "        \"published_date\": published_date,\n",
    "        \"format\": book_format,\n",
    "        \"price\": price\n",
    "    }\n",
    "    book_list.append(book)"
   ]
  },
  {
   "cell_type": "code",
   "execution_count": 71,
   "id": "cfeb36c2",
   "metadata": {},
   "outputs": [
    {
     "data": {
      "text/html": [
       "<div>\n",
       "<style scoped>\n",
       "    .dataframe tbody tr th:only-of-type {\n",
       "        vertical-align: middle;\n",
       "    }\n",
       "\n",
       "    .dataframe tbody tr th {\n",
       "        vertical-align: top;\n",
       "    }\n",
       "\n",
       "    .dataframe thead th {\n",
       "        text-align: right;\n",
       "    }\n",
       "</style>\n",
       "<table border=\"1\" class=\"dataframe\">\n",
       "  <thead>\n",
       "    <tr style=\"text-align: right;\">\n",
       "      <th></th>\n",
       "      <th>title</th>\n",
       "      <th>author</th>\n",
       "      <th>published_date</th>\n",
       "      <th>format</th>\n",
       "      <th>price</th>\n",
       "    </tr>\n",
       "  </thead>\n",
       "  <tbody>\n",
       "    <tr>\n",
       "      <th>0</th>\n",
       "      <td>Nick and Charlie</td>\n",
       "      <td>Alice Oseman</td>\n",
       "      <td>06 Aug 2020</td>\n",
       "      <td>Paperback</td>\n",
       "      <td>164380</td>\n",
       "    </tr>\n",
       "    <tr>\n",
       "      <th>1</th>\n",
       "      <td>Heartstopper Volume 2</td>\n",
       "      <td>Alice Oseman</td>\n",
       "      <td>20 Dec 2019</td>\n",
       "      <td>Paperback</td>\n",
       "      <td>217640</td>\n",
       "    </tr>\n",
       "    <tr>\n",
       "      <th>2</th>\n",
       "      <td>Heartstopper Volume 3</td>\n",
       "      <td>Alice Oseman</td>\n",
       "      <td>06 Feb 2020</td>\n",
       "      <td>Paperback</td>\n",
       "      <td>226315</td>\n",
       "    </tr>\n",
       "    <tr>\n",
       "      <th>3</th>\n",
       "      <td>Heartstopper Volume 1</td>\n",
       "      <td>Alice Oseman</td>\n",
       "      <td>10 Apr 2019</td>\n",
       "      <td>Paperback</td>\n",
       "      <td>210591</td>\n",
       "    </tr>\n",
       "    <tr>\n",
       "      <th>4</th>\n",
       "      <td>Solitaire</td>\n",
       "      <td>Alice Oseman</td>\n",
       "      <td>31 Jul 2014</td>\n",
       "      <td>Paperback</td>\n",
       "      <td>228802</td>\n",
       "    </tr>\n",
       "    <tr>\n",
       "      <th>...</th>\n",
       "      <td>...</td>\n",
       "      <td>...</td>\n",
       "      <td>...</td>\n",
       "      <td>...</td>\n",
       "      <td>...</td>\n",
       "    </tr>\n",
       "    <tr>\n",
       "      <th>1015</th>\n",
       "      <td>Dorohedoro, Vol. 7</td>\n",
       "      <td>Q Hayashida</td>\n",
       "      <td>21 Aug 2012</td>\n",
       "      <td>Paperback</td>\n",
       "      <td>165936</td>\n",
       "    </tr>\n",
       "    <tr>\n",
       "      <th>1016</th>\n",
       "      <td>Vagabond (VIZBIG Edition), Vol. 7</td>\n",
       "      <td>Takehiko Inoue</td>\n",
       "      <td>01 Jan 2015</td>\n",
       "      <td>Paperback</td>\n",
       "      <td>392518</td>\n",
       "    </tr>\n",
       "    <tr>\n",
       "      <th>1017</th>\n",
       "      <td>Vagabond (VIZBIG Edition), Vol. 3</td>\n",
       "      <td>Takehiko Inoue</td>\n",
       "      <td>11 Sep 2014</td>\n",
       "      <td>Paperback</td>\n",
       "      <td>351279</td>\n",
       "    </tr>\n",
       "    <tr>\n",
       "      <th>1018</th>\n",
       "      <td>One Piece, Vol. 12</td>\n",
       "      <td>Eiichiro Oda</td>\n",
       "      <td>06 Oct 2008</td>\n",
       "      <td>Paperback</td>\n",
       "      <td>166117</td>\n",
       "    </tr>\n",
       "    <tr>\n",
       "      <th>1019</th>\n",
       "      <td>One Piece, Vol. 9</td>\n",
       "      <td>Eiichiro Oda</td>\n",
       "      <td>06 Oct 2008</td>\n",
       "      <td>Paperback</td>\n",
       "      <td>140145</td>\n",
       "    </tr>\n",
       "  </tbody>\n",
       "</table>\n",
       "<p>1020 rows × 5 columns</p>\n",
       "</div>"
      ],
      "text/plain": [
       "                                  title          author published_date  \\\n",
       "0                      Nick and Charlie    Alice Oseman    06 Aug 2020   \n",
       "1                 Heartstopper Volume 2    Alice Oseman    20 Dec 2019   \n",
       "2                 Heartstopper Volume 3    Alice Oseman    06 Feb 2020   \n",
       "3                 Heartstopper Volume 1    Alice Oseman    10 Apr 2019   \n",
       "4                             Solitaire    Alice Oseman    31 Jul 2014   \n",
       "...                                 ...             ...            ...   \n",
       "1015                 Dorohedoro, Vol. 7     Q Hayashida    21 Aug 2012   \n",
       "1016  Vagabond (VIZBIG Edition), Vol. 7  Takehiko Inoue    01 Jan 2015   \n",
       "1017  Vagabond (VIZBIG Edition), Vol. 3  Takehiko Inoue    11 Sep 2014   \n",
       "1018                 One Piece, Vol. 12    Eiichiro Oda    06 Oct 2008   \n",
       "1019                  One Piece, Vol. 9    Eiichiro Oda    06 Oct 2008   \n",
       "\n",
       "         format   price  \n",
       "0     Paperback  164380  \n",
       "1     Paperback  217640  \n",
       "2     Paperback  226315  \n",
       "3     Paperback  210591  \n",
       "4     Paperback  228802  \n",
       "...         ...     ...  \n",
       "1015  Paperback  165936  \n",
       "1016  Paperback  392518  \n",
       "1017  Paperback  351279  \n",
       "1018  Paperback  166117  \n",
       "1019  Paperback  140145  \n",
       "\n",
       "[1020 rows x 5 columns]"
      ]
     },
     "execution_count": 71,
     "metadata": {},
     "output_type": "execute_result"
    }
   ],
   "source": [
    "book_df = pd.DataFrame(book_list)\n",
    "book_df"
   ]
  },
  {
   "cell_type": "code",
   "execution_count": 72,
   "id": "6775946f",
   "metadata": {},
   "outputs": [
    {
     "data": {
      "text/plain": [
       "title             Nick and Charlie\n",
       "author                Alice Oseman\n",
       "published_date         06 Aug 2020\n",
       "format                   Paperback\n",
       "price                       164380\n",
       "Name: 0, dtype: object"
      ]
     },
     "execution_count": 72,
     "metadata": {},
     "output_type": "execute_result"
    }
   ],
   "source": [
    "book_df.iloc[0]"
   ]
  },
  {
   "cell_type": "code",
   "execution_count": null,
   "id": "e957079c",
   "metadata": {},
   "outputs": [],
   "source": []
  }
 ],
 "metadata": {
  "kernelspec": {
   "display_name": "Python 3 (ipykernel)",
   "language": "python",
   "name": "python3"
  },
  "language_info": {
   "codemirror_mode": {
    "name": "ipython",
    "version": 3
   },
   "file_extension": ".py",
   "mimetype": "text/x-python",
   "name": "python",
   "nbconvert_exporter": "python",
   "pygments_lexer": "ipython3",
   "version": "3.9.12"
  }
 },
 "nbformat": 4,
 "nbformat_minor": 5
}
